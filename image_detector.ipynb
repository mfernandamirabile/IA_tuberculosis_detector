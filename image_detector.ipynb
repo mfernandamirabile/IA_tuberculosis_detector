{
 "cells": [
  {
   "cell_type": "markdown",
   "id": "952e2662",
   "metadata": {},
   "source": [
    "# IA de Detecção de Tuberculose \n",
    " Detecção de Tuberculose em pacientes através da análise de Raio X"
   ]
  },
  {
   "cell_type": "markdown",
   "id": "62daddb2",
   "metadata": {},
   "source": [
    "## 1.Importação de Módulos"
   ]
  },
  {
   "cell_type": "code",
   "execution_count": 60,
   "id": "7d315fd4",
   "metadata": {},
   "outputs": [],
   "source": [
    "# Importação de módulos\n",
    "import numpy as np\n",
    "import pandas as pd\n",
    "import matplotlib.pyplot as plt\n",
    "import tensorflow as tf\n",
    "from tensorflow import keras\n",
    "from keras import layers, models\n",
    "import os\n",
    "import kagglehub\n",
    "import shutil\n",
    "from keras.src.legacy.preprocessing.image import  ImageDataGenerator\n",
    "from keras.src.legacy.preprocessing.image import *\n",
    "import PIL\n"
   ]
  },
  {
   "cell_type": "markdown",
   "id": "2e26ddb1",
   "metadata": {},
   "source": [
    "## 2.Base de Dados"
   ]
  },
  {
   "cell_type": "code",
   "execution_count": 2,
   "id": "b6f9431d",
   "metadata": {},
   "outputs": [
    {
     "name": "stdout",
     "output_type": "stream",
     "text": [
      "Dataset já instalado. Usando arquivos locais em: C:\\Users\\ferna\\.cache\\kagglehub\\datasets\\raddar\\tuberculosis-chest-xrays-montgomery\\versions\\1\n"
     ]
    }
   ],
   "source": [
    "# Caminho da pasta do usuário\n",
    "home_dir = os.path.expanduser(\"~\")\n",
    "\n",
    "# Caminho onde os datasets do kagglehub são armazenados\n",
    "dataset_name = \"raddar/tuberculosis-chest-xrays-montgomery\"\n",
    "dataset_folder = dataset_name.replace(\"/\", os.sep)  \n",
    "dataset_path = os.path.join(home_dir, \".cache\", \"kagglehub\", \"datasets\", dataset_folder, \"versions\", \"1\")\n",
    "\n",
    "# Verifica se o dataset já foi instalado\n",
    "if not os.path.exists(dataset_path) or not os.listdir(dataset_path):\n",
    "    print(\"Baixando o dataset...\")\n",
    "    path = kagglehub.dataset_download(\"raddar/tuberculosis-chest-xrays-montgomery\")\n",
    "    print(\"Download concluído! Arquivos em:\", path)\n",
    "else:\n",
    "    print(\"Dataset já instalado. Usando arquivos locais em:\", dataset_path)"
   ]
  },
  {
   "cell_type": "markdown",
   "id": "d9326832",
   "metadata": {},
   "source": [
    "## 3.Criando IA Convolucional"
   ]
  },
  {
   "cell_type": "markdown",
   "id": "fe6313ef",
   "metadata": {},
   "source": [
    "##### 3.1 Separando casos normais e casos de tuberculose"
   ]
  },
  {
   "cell_type": "code",
   "execution_count": 3,
   "id": "44a7a71d",
   "metadata": {},
   "outputs": [],
   "source": [
    "# Lendo arquivo compilado com os resultados médicos\n",
    "exams_results = [f for f in os.listdir(dataset_path) if f.endswith('.csv')]\n",
    "exams_result_path = os.path.join(dataset_path, exams_results[0])\n",
    "\n",
    "images = os.path.join(dataset_path, 'images', 'images')"
   ]
  },
  {
   "cell_type": "code",
   "execution_count": 4,
   "id": "bfbd9c17",
   "metadata": {},
   "outputs": [
    {
     "data": {
      "text/html": [
       "<div>\n",
       "<style scoped>\n",
       "    .dataframe tbody tr th:only-of-type {\n",
       "        vertical-align: middle;\n",
       "    }\n",
       "\n",
       "    .dataframe tbody tr th {\n",
       "        vertical-align: top;\n",
       "    }\n",
       "\n",
       "    .dataframe thead th {\n",
       "        text-align: right;\n",
       "    }\n",
       "</style>\n",
       "<table border=\"1\" class=\"dataframe\">\n",
       "  <thead>\n",
       "    <tr style=\"text-align: right;\">\n",
       "      <th></th>\n",
       "      <th>study_id</th>\n",
       "      <th>age</th>\n",
       "      <th>gender</th>\n",
       "      <th>findings</th>\n",
       "    </tr>\n",
       "  </thead>\n",
       "  <tbody>\n",
       "    <tr>\n",
       "      <th>0</th>\n",
       "      <td>MCUCXR_0001_0.png</td>\n",
       "      <td>27</td>\n",
       "      <td>Female</td>\n",
       "      <td>normal</td>\n",
       "    </tr>\n",
       "    <tr>\n",
       "      <th>1</th>\n",
       "      <td>MCUCXR_0002_0.png</td>\n",
       "      <td>40</td>\n",
       "      <td>Female</td>\n",
       "      <td>normal</td>\n",
       "    </tr>\n",
       "    <tr>\n",
       "      <th>2</th>\n",
       "      <td>MCUCXR_0003_0.png</td>\n",
       "      <td>21</td>\n",
       "      <td>Female</td>\n",
       "      <td>normal</td>\n",
       "    </tr>\n",
       "    <tr>\n",
       "      <th>3</th>\n",
       "      <td>MCUCXR_0004_0.png</td>\n",
       "      <td>11</td>\n",
       "      <td>Female</td>\n",
       "      <td>normal</td>\n",
       "    </tr>\n",
       "    <tr>\n",
       "      <th>4</th>\n",
       "      <td>MCUCXR_0005_0.png</td>\n",
       "      <td>33</td>\n",
       "      <td>Male</td>\n",
       "      <td>normal</td>\n",
       "    </tr>\n",
       "    <tr>\n",
       "      <th>...</th>\n",
       "      <td>...</td>\n",
       "      <td>...</td>\n",
       "      <td>...</td>\n",
       "      <td>...</td>\n",
       "    </tr>\n",
       "    <tr>\n",
       "      <th>133</th>\n",
       "      <td>MCUCXR_0383_1.png</td>\n",
       "      <td>14</td>\n",
       "      <td>Female</td>\n",
       "      <td>calcified granuloma LUL behind 4th rib anterior</td>\n",
       "    </tr>\n",
       "    <tr>\n",
       "      <th>134</th>\n",
       "      <td>MCUCXR_0387_1.png</td>\n",
       "      <td>42</td>\n",
       "      <td>Male</td>\n",
       "      <td>inactive scars RUL</td>\n",
       "    </tr>\n",
       "    <tr>\n",
       "      <th>135</th>\n",
       "      <td>MCUCXR_0390_1.png</td>\n",
       "      <td>52</td>\n",
       "      <td>Male</td>\n",
       "      <td>Rt apical scarring. LUL scars and some infiltr...</td>\n",
       "    </tr>\n",
       "    <tr>\n",
       "      <th>136</th>\n",
       "      <td>MCUCXR_0393_1.png</td>\n",
       "      <td>30</td>\n",
       "      <td>Female</td>\n",
       "      <td>left pleural effusion; best seen on lateral vi...</td>\n",
       "    </tr>\n",
       "    <tr>\n",
       "      <th>137</th>\n",
       "      <td>MCUCXR_0399_1.png</td>\n",
       "      <td>63</td>\n",
       "      <td>Female</td>\n",
       "      <td>large infiltrate RUL with cavitation plus infi...</td>\n",
       "    </tr>\n",
       "  </tbody>\n",
       "</table>\n",
       "<p>138 rows × 4 columns</p>\n",
       "</div>"
      ],
      "text/plain": [
       "              study_id  age  gender  \\\n",
       "0    MCUCXR_0001_0.png   27  Female   \n",
       "1    MCUCXR_0002_0.png   40  Female   \n",
       "2    MCUCXR_0003_0.png   21  Female   \n",
       "3    MCUCXR_0004_0.png   11  Female   \n",
       "4    MCUCXR_0005_0.png   33    Male   \n",
       "..                 ...  ...     ...   \n",
       "133  MCUCXR_0383_1.png   14  Female   \n",
       "134  MCUCXR_0387_1.png   42    Male   \n",
       "135  MCUCXR_0390_1.png   52    Male   \n",
       "136  MCUCXR_0393_1.png   30  Female   \n",
       "137  MCUCXR_0399_1.png   63  Female   \n",
       "\n",
       "                                              findings  \n",
       "0                                               normal  \n",
       "1                                               normal  \n",
       "2                                               normal  \n",
       "3                                               normal  \n",
       "4                                               normal  \n",
       "..                                                 ...  \n",
       "133    calcified granuloma LUL behind 4th rib anterior  \n",
       "134                                 inactive scars RUL  \n",
       "135  Rt apical scarring. LUL scars and some infiltr...  \n",
       "136  left pleural effusion; best seen on lateral vi...  \n",
       "137  large infiltrate RUL with cavitation plus infi...  \n",
       "\n",
       "[138 rows x 4 columns]"
      ]
     },
     "execution_count": 4,
     "metadata": {},
     "output_type": "execute_result"
    }
   ],
   "source": [
    "# Criando DataFrame\n",
    "df_exams_results = pd.read_csv(exams_result_path)\n",
    "df_exams_results"
   ]
  },
  {
   "cell_type": "code",
   "execution_count": 5,
   "id": "8e29aaf1",
   "metadata": {},
   "outputs": [
    {
     "data": {
      "text/html": [
       "<div>\n",
       "<style scoped>\n",
       "    .dataframe tbody tr th:only-of-type {\n",
       "        vertical-align: middle;\n",
       "    }\n",
       "\n",
       "    .dataframe tbody tr th {\n",
       "        vertical-align: top;\n",
       "    }\n",
       "\n",
       "    .dataframe thead th {\n",
       "        text-align: right;\n",
       "    }\n",
       "</style>\n",
       "<table border=\"1\" class=\"dataframe\">\n",
       "  <thead>\n",
       "    <tr style=\"text-align: right;\">\n",
       "      <th></th>\n",
       "      <th>study_id</th>\n",
       "      <th>age</th>\n",
       "      <th>gender</th>\n",
       "      <th>findings</th>\n",
       "    </tr>\n",
       "  </thead>\n",
       "  <tbody>\n",
       "    <tr>\n",
       "      <th>0</th>\n",
       "      <td>MCUCXR_0001_0.png</td>\n",
       "      <td>27</td>\n",
       "      <td>Female</td>\n",
       "      <td>NORMAL</td>\n",
       "    </tr>\n",
       "    <tr>\n",
       "      <th>1</th>\n",
       "      <td>MCUCXR_0002_0.png</td>\n",
       "      <td>40</td>\n",
       "      <td>Female</td>\n",
       "      <td>NORMAL</td>\n",
       "    </tr>\n",
       "    <tr>\n",
       "      <th>2</th>\n",
       "      <td>MCUCXR_0003_0.png</td>\n",
       "      <td>21</td>\n",
       "      <td>Female</td>\n",
       "      <td>NORMAL</td>\n",
       "    </tr>\n",
       "    <tr>\n",
       "      <th>3</th>\n",
       "      <td>MCUCXR_0004_0.png</td>\n",
       "      <td>11</td>\n",
       "      <td>Female</td>\n",
       "      <td>NORMAL</td>\n",
       "    </tr>\n",
       "    <tr>\n",
       "      <th>4</th>\n",
       "      <td>MCUCXR_0005_0.png</td>\n",
       "      <td>33</td>\n",
       "      <td>Male</td>\n",
       "      <td>NORMAL</td>\n",
       "    </tr>\n",
       "    <tr>\n",
       "      <th>...</th>\n",
       "      <td>...</td>\n",
       "      <td>...</td>\n",
       "      <td>...</td>\n",
       "      <td>...</td>\n",
       "    </tr>\n",
       "    <tr>\n",
       "      <th>133</th>\n",
       "      <td>MCUCXR_0383_1.png</td>\n",
       "      <td>14</td>\n",
       "      <td>Female</td>\n",
       "      <td>CALCIFIED GRANULOMA LUL BEHIND 4TH RIB ANTERIOR</td>\n",
       "    </tr>\n",
       "    <tr>\n",
       "      <th>134</th>\n",
       "      <td>MCUCXR_0387_1.png</td>\n",
       "      <td>42</td>\n",
       "      <td>Male</td>\n",
       "      <td>INACTIVE SCARS RUL</td>\n",
       "    </tr>\n",
       "    <tr>\n",
       "      <th>135</th>\n",
       "      <td>MCUCXR_0390_1.png</td>\n",
       "      <td>52</td>\n",
       "      <td>Male</td>\n",
       "      <td>RT APICAL SCARRING. LUL SCARS AND SOME INFILTR...</td>\n",
       "    </tr>\n",
       "    <tr>\n",
       "      <th>136</th>\n",
       "      <td>MCUCXR_0393_1.png</td>\n",
       "      <td>30</td>\n",
       "      <td>Female</td>\n",
       "      <td>LEFT PLEURAL EFFUSION; BEST SEEN ON LATERAL VI...</td>\n",
       "    </tr>\n",
       "    <tr>\n",
       "      <th>137</th>\n",
       "      <td>MCUCXR_0399_1.png</td>\n",
       "      <td>63</td>\n",
       "      <td>Female</td>\n",
       "      <td>LARGE INFILTRATE RUL WITH CAVITATION PLUS INFI...</td>\n",
       "    </tr>\n",
       "  </tbody>\n",
       "</table>\n",
       "<p>138 rows × 4 columns</p>\n",
       "</div>"
      ],
      "text/plain": [
       "              study_id  age  gender  \\\n",
       "0    MCUCXR_0001_0.png   27  Female   \n",
       "1    MCUCXR_0002_0.png   40  Female   \n",
       "2    MCUCXR_0003_0.png   21  Female   \n",
       "3    MCUCXR_0004_0.png   11  Female   \n",
       "4    MCUCXR_0005_0.png   33    Male   \n",
       "..                 ...  ...     ...   \n",
       "133  MCUCXR_0383_1.png   14  Female   \n",
       "134  MCUCXR_0387_1.png   42    Male   \n",
       "135  MCUCXR_0390_1.png   52    Male   \n",
       "136  MCUCXR_0393_1.png   30  Female   \n",
       "137  MCUCXR_0399_1.png   63  Female   \n",
       "\n",
       "                                              findings  \n",
       "0                                               NORMAL  \n",
       "1                                               NORMAL  \n",
       "2                                               NORMAL  \n",
       "3                                               NORMAL  \n",
       "4                                               NORMAL  \n",
       "..                                                 ...  \n",
       "133    CALCIFIED GRANULOMA LUL BEHIND 4TH RIB ANTERIOR  \n",
       "134                                 INACTIVE SCARS RUL  \n",
       "135  RT APICAL SCARRING. LUL SCARS AND SOME INFILTR...  \n",
       "136  LEFT PLEURAL EFFUSION; BEST SEEN ON LATERAL VI...  \n",
       "137  LARGE INFILTRATE RUL WITH CAVITATION PLUS INFI...  \n",
       "\n",
       "[138 rows x 4 columns]"
      ]
     },
     "execution_count": 5,
     "metadata": {},
     "output_type": "execute_result"
    }
   ],
   "source": [
    "# Tratando dados\n",
    "df_exams_results['findings'] = df_exams_results['findings'].str.strip().str.upper()\n",
    "df_exams_results"
   ]
  },
  {
   "cell_type": "code",
   "execution_count": 6,
   "id": "5bab58cb",
   "metadata": {},
   "outputs": [],
   "source": [
    "# Separando imagens normais e patológicas em duas listas\n",
    "list_normal = []\n",
    "list_tuberculosis = []\n",
    "\n",
    "for i, row in df_exams_results.iterrows():\n",
    "    name_image = row['study_id']\n",
    "    if row['findings'] == 'NORMAL':\n",
    "        list_normal.append(name_image)\n",
    "    else:\n",
    "        list_tuberculosis.append(name_image)\n"
   ]
  },
  {
   "cell_type": "code",
   "execution_count": 7,
   "id": "c649dfce",
   "metadata": {},
   "outputs": [],
   "source": [
    "# Criando novos diretórios para casos normais e casos patológicos\n",
    "dir_ai_training = 'AI training images'\n",
    "dir_normal = 'Normal'\n",
    "dir_tuberculosis = 'Tuberculosis'\n",
    "\n",
    "path_ai_training = os.path.join(dataset_path, dir_ai_training)\n",
    "path_normal = os.path.join(dataset_path, dir_ai_training, dir_normal)\n",
    "path_tuberculosis = os.path.join(dataset_path, dir_ai_training, dir_tuberculosis)\n",
    "\n",
    "os.makedirs(path_normal, exist_ok=True)\n",
    "os.makedirs(path_tuberculosis, exist_ok=True)"
   ]
  },
  {
   "cell_type": "code",
   "execution_count": 8,
   "id": "87e6ae8d",
   "metadata": {},
   "outputs": [],
   "source": [
    "# Movendo imagens normais e patológicas para seus respectivos diretórios\n",
    "for name in list_normal:\n",
    "    origin = os.path.join(images, name)\n",
    "    destination = os.path.join(path_normal, name)\n",
    "    if os.path.exists(origin):\n",
    "        shutil.move(origin, destination)\n",
    "\n",
    "for name in list_tuberculosis:\n",
    "    origin = os.path.join(images, name)\n",
    "    destination = os.path.join(path_tuberculosis, name)\n",
    "    if os.path.exists(origin):\n",
    "        shutil.move(origin, destination)"
   ]
  },
  {
   "cell_type": "markdown",
   "id": "fac9ebfd",
   "metadata": {},
   "source": [
    "#### 3.2 Pré-Processamento"
   ]
  },
  {
   "cell_type": "code",
   "execution_count": 9,
   "id": "0588e66c",
   "metadata": {},
   "outputs": [
    {
     "name": "stdout",
     "output_type": "stream",
     "text": [
      "Found 111 images belonging to 2 classes.\n",
      "Found 27 images belonging to 2 classes.\n"
     ]
    }
   ],
   "source": [
    "datagen = ImageDataGenerator(rescale=1./255, validation_split=0.2)\n",
    "\n",
    "train_generator = datagen.flow_from_directory(\n",
    "    path_ai_training,\n",
    "    target_size=(225,225),\n",
    "    batch_size=32,\n",
    "    class_mode='binary',\n",
    "    subset='training'\n",
    ")\n",
    "\n",
    "validation_generator = datagen.flow_from_directory(\n",
    "    path_ai_training,\n",
    "    target_size=(225,225),\n",
    "    batch_size=32,\n",
    "    class_mode='binary',\n",
    "    subset='validation'\n",
    ")"
   ]
  },
  {
   "cell_type": "code",
   "execution_count": 10,
   "id": "02b081ce",
   "metadata": {},
   "outputs": [
    {
     "name": "stdout",
     "output_type": "stream",
     "text": [
      "{'Normal': 0, 'Tuberculosis': 1}\n"
     ]
    }
   ],
   "source": [
    "print(train_generator.class_indices)\n"
   ]
  },
  {
   "cell_type": "markdown",
   "id": "ecfee408",
   "metadata": {},
   "source": [
    "#### 3.3 Rede Convolucional Neural"
   ]
  },
  {
   "cell_type": "code",
   "execution_count": 11,
   "id": "b49dcfc3",
   "metadata": {},
   "outputs": [
    {
     "name": "stderr",
     "output_type": "stream",
     "text": [
      "c:\\Users\\ferna\\codigos\\IA_tuberculosis_detector\\venv_tf\\Lib\\site-packages\\keras\\src\\layers\\convolutional\\base_conv.py:107: UserWarning: Do not pass an `input_shape`/`input_dim` argument to a layer. When using Sequential models, prefer using an `Input(shape)` object as the first layer in the model instead.\n",
      "  super().__init__(activity_regularizer=activity_regularizer, **kwargs)\n"
     ]
    }
   ],
   "source": [
    "model = models.Sequential([\n",
    "    layers.Conv2D(32, 3, activation='relu', input_shape=(225,225,3)),\n",
    "    layers.MaxPooling2D(2,2),\n",
    "    \n",
    "    layers.Conv2D(64, 3, activation='relu'),\n",
    "    layers.MaxPooling2D(2,2),\n",
    "    \n",
    "    layers.Conv2D(128, 3, activation='relu'),\n",
    "    layers.MaxPooling2D(2,2),\n",
    "    \n",
    "    layers.Flatten(),\n",
    "    layers.Dropout(0.5),\n",
    "    layers.Dense(128, activation='relu'),\n",
    "    layers.Dropout(0.3),\n",
    "    layers.Dense(1, activation='sigmoid')\n",
    "])"
   ]
  },
  {
   "cell_type": "code",
   "execution_count": 12,
   "id": "3f361330",
   "metadata": {},
   "outputs": [],
   "source": [
    "model.compile(\n",
    "    optimizer='adam',\n",
    "    loss='binary_crossentropy',\n",
    "    metrics=['accuracy']\n",
    ")"
   ]
  },
  {
   "cell_type": "markdown",
   "id": "f1154b51",
   "metadata": {},
   "source": [
    "## 4.Treinando IA"
   ]
  },
  {
   "cell_type": "code",
   "execution_count": 13,
   "id": "a6e533e4",
   "metadata": {},
   "outputs": [
    {
     "name": "stderr",
     "output_type": "stream",
     "text": [
      "c:\\Users\\ferna\\codigos\\IA_tuberculosis_detector\\venv_tf\\Lib\\site-packages\\keras\\src\\trainers\\data_adapters\\py_dataset_adapter.py:121: UserWarning: Your `PyDataset` class should call `super().__init__(**kwargs)` in its constructor. `**kwargs` can include `workers`, `use_multiprocessing`, `max_queue_size`. Do not pass these arguments to `fit()`, as they will be ignored.\n",
      "  self._warn_if_super_not_called()\n"
     ]
    },
    {
     "name": "stdout",
     "output_type": "stream",
     "text": [
      "Epoch 1/10\n",
      "\u001b[1m4/4\u001b[0m \u001b[32m━━━━━━━━━━━━━━━━━━━━\u001b[0m\u001b[37m\u001b[0m \u001b[1m35s\u001b[0m 10s/step - accuracy: 0.4862 - loss: 1.4917 - val_accuracy: 0.4074 - val_loss: 0.7833\n",
      "Epoch 2/10\n",
      "\u001b[1m4/4\u001b[0m \u001b[32m━━━━━━━━━━━━━━━━━━━━\u001b[0m\u001b[37m\u001b[0m \u001b[1m32s\u001b[0m 9s/step - accuracy: 0.4778 - loss: 0.7064 - val_accuracy: 0.5926 - val_loss: 0.6637\n",
      "Epoch 3/10\n",
      "\u001b[1m4/4\u001b[0m \u001b[32m━━━━━━━━━━━━━━━━━━━━\u001b[0m\u001b[37m\u001b[0m \u001b[1m35s\u001b[0m 8s/step - accuracy: 0.5871 - loss: 0.6625 - val_accuracy: 0.6667 - val_loss: 0.6581\n",
      "Epoch 4/10\n",
      "\u001b[1m4/4\u001b[0m \u001b[32m━━━━━━━━━━━━━━━━━━━━\u001b[0m\u001b[37m\u001b[0m \u001b[1m43s\u001b[0m 11s/step - accuracy: 0.6736 - loss: 0.6402 - val_accuracy: 0.6296 - val_loss: 0.5911\n",
      "Epoch 5/10\n",
      "\u001b[1m4/4\u001b[0m \u001b[32m━━━━━━━━━━━━━━━━━━━━\u001b[0m\u001b[37m\u001b[0m \u001b[1m34s\u001b[0m 8s/step - accuracy: 0.7397 - loss: 0.5650 - val_accuracy: 0.8519 - val_loss: 0.5761\n",
      "Epoch 6/10\n",
      "\u001b[1m4/4\u001b[0m \u001b[32m━━━━━━━━━━━━━━━━━━━━\u001b[0m\u001b[37m\u001b[0m \u001b[1m30s\u001b[0m 8s/step - accuracy: 0.8832 - loss: 0.4619 - val_accuracy: 0.5926 - val_loss: 0.6959\n",
      "Epoch 7/10\n",
      "\u001b[1m4/4\u001b[0m \u001b[32m━━━━━━━━━━━━━━━━━━━━\u001b[0m\u001b[37m\u001b[0m \u001b[1m32s\u001b[0m 8s/step - accuracy: 0.8095 - loss: 0.3695 - val_accuracy: 0.7778 - val_loss: 0.5026\n",
      "Epoch 8/10\n",
      "\u001b[1m4/4\u001b[0m \u001b[32m━━━━━━━━━━━━━━━━━━━━\u001b[0m\u001b[37m\u001b[0m \u001b[1m30s\u001b[0m 8s/step - accuracy: 0.8599 - loss: 0.2820 - val_accuracy: 0.7407 - val_loss: 0.5458\n",
      "Epoch 9/10\n",
      "\u001b[1m4/4\u001b[0m \u001b[32m━━━━━━━━━━━━━━━━━━━━\u001b[0m\u001b[37m\u001b[0m \u001b[1m29s\u001b[0m 7s/step - accuracy: 0.9305 - loss: 0.1990 - val_accuracy: 0.7407 - val_loss: 0.6019\n",
      "Epoch 10/10\n",
      "\u001b[1m4/4\u001b[0m \u001b[32m━━━━━━━━━━━━━━━━━━━━\u001b[0m\u001b[37m\u001b[0m \u001b[1m29s\u001b[0m 7s/step - accuracy: 0.9591 - loss: 0.1315 - val_accuracy: 0.8148 - val_loss: 0.5473\n"
     ]
    }
   ],
   "source": [
    "history = model.fit(\n",
    "    train_generator,\n",
    "    validation_data=validation_generator,\n",
    "    epochs=10\n",
    ")"
   ]
  },
  {
   "cell_type": "markdown",
   "id": "634b7c78",
   "metadata": {},
   "source": [
    "## 5. Testando IA com Imagens"
   ]
  },
  {
   "cell_type": "code",
   "execution_count": 57,
   "id": "6ed9198e",
   "metadata": {},
   "outputs": [],
   "source": [
    "test_image_path = 'assets/test_image5.png'"
   ]
  },
  {
   "cell_type": "code",
   "execution_count": 58,
   "id": "add218bc",
   "metadata": {},
   "outputs": [
    {
     "name": "stdout",
     "output_type": "stream",
     "text": [
      "\u001b[1m1/1\u001b[0m \u001b[32m━━━━━━━━━━━━━━━━━━━━\u001b[0m\u001b[37m\u001b[0m \u001b[1m0s\u001b[0m 29ms/step\n"
     ]
    }
   ],
   "source": [
    "img = keras.utils.load_img(test_image_path, target_size=(225,225))\n",
    "\n",
    "img_arrary = keras.utils.img_to_array(img)\n",
    "img_arrary = np.expand_dims(img_arrary, axis=0) \n",
    "img_arrary =img_arrary/255.0\n",
    "\n",
    "predictions = model.predict(img_arrary)"
   ]
  },
  {
   "cell_type": "code",
   "execution_count": 59,
   "id": "5b91eb12",
   "metadata": {},
   "outputs": [
    {
     "name": "stdout",
     "output_type": "stream",
     "text": [
      "A imagem é classificada como **Normal** (0.54)\n"
     ]
    }
   ],
   "source": [
    "if predictions[0] > 0.5:\n",
    "    print(f'A imagem é classificada como **Tuberculose** ({predictions[0][0]:.2f})')\n",
    "else:\n",
    "    print(f'A imagem é classificada como **Normal** ({1 - predictions[0][0]:.2f})')\n"
   ]
  },
  {
   "cell_type": "markdown",
   "id": "dc627b51",
   "metadata": {},
   "source": [
    "## 6. Gráficos e KPI's"
   ]
  },
  {
   "cell_type": "code",
   "execution_count": null,
   "id": "fbd0d645",
   "metadata": {},
   "outputs": [
    {
     "data": {
      "image/png": "[encoded data removed]",
      "text/plain": [
       "<Figure size 1200x500 with 2 Axes>"
      ]
     },
     "metadata": {},
     "output_type": "display_data"
    }
   ],
   "source": [
    "# Acurácia\n",
    "plt.figure(figsize=(12, 5))\n",
    "plt.subplot(1, 2, 1)\n",
    "plt.plot(history.history['accuracy'], label='Treinamento')\n",
    "plt.plot(history.history['val_accuracy'], label='Validação')\n",
    "plt.title('Acurácia do Modelo')\n",
    "plt.xlabel('Épocas')\n",
    "plt.ylabel('Acurácia')\n",
    "plt.legend()\n",
    "\n",
    "# Perda\n",
    "plt.subplot(1, 2, 2)\n",
    "plt.plot(history.history['loss'], label='Treinamento')\n",
    "plt.plot(history.history['val_loss'], label='Validação')\n",
    "plt.title('Perda do Modelo')\n",
    "plt.xlabel('Épocas')\n",
    "plt.ylabel('Loss')\n",
    "plt.legend()\n",
    "\n",
    "plt.tight_layout()\n",
    "plt.show()\n"
   ]
  }
 ],
 "metadata": {
  "kernelspec": {
   "display_name": "venv_tf",
   "language": "python",
   "name": "python3"
  },
  "language_info": {
   "codemirror_mode": {
    "name": "ipython",
    "version": 3
   },
   "file_extension": ".py",
   "mimetype": "text/x-python",
   "name": "python",
   "nbconvert_exporter": "python",
   "pygments_lexer": "ipython3",
   "version": "3.11.9"
  }
 },
 "nbformat": 4,
 "nbformat_minor": 5
}
