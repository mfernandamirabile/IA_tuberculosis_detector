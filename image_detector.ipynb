{
 "cells": [
  {
   "cell_type": "markdown",
   "id": "952e2662",
   "metadata": {},
   "source": [
    "# IA de Detecção de Tuberculose \n",
    " Detecção de Tuberculose em pacientes através da análise de Raio X"
   ]
  },
  {
   "cell_type": "markdown",
   "id": "62daddb2",
   "metadata": {},
   "source": [
    "## 1.Importação de Módulos"
   ]
  },
  {
   "cell_type": "code",
   "execution_count": 84,
   "id": "7d315fd4",
   "metadata": {},
   "outputs": [],
   "source": [
    "# Importação de módulos\n",
    "import numpy as np\n",
    "import pandas as pd\n",
    "import tensorflow as tf\n",
    "from tensorflow import keras\n",
    "from keras import layers, models\n",
    "import os\n",
    "import kagglehub\n",
    "import shutil\n",
    "from keras.src.legacy.preprocessing.image import ImageDataGenerator\n",
    "import PIL"
   ]
  },
  {
   "cell_type": "markdown",
   "id": "2e26ddb1",
   "metadata": {},
   "source": [
    "## 2.Base de Dados"
   ]
  },
  {
   "cell_type": "code",
   "execution_count": 62,
   "id": "b6f9431d",
   "metadata": {},
   "outputs": [
    {
     "name": "stdout",
     "output_type": "stream",
     "text": [
      "Baixando o dataset...\n",
      "Downloading from https://www.kaggle.com/api/v1/datasets/download/raddar/tuberculosis-chest-xrays-montgomery?dataset_version_number=1...\n"
     ]
    },
    {
     "name": "stderr",
     "output_type": "stream",
     "text": [
      "100%|██████████| 585M/585M [00:35<00:00, 17.1MB/s] "
     ]
    },
    {
     "name": "stdout",
     "output_type": "stream",
     "text": [
      "Extracting files...\n"
     ]
    },
    {
     "name": "stderr",
     "output_type": "stream",
     "text": [
      "\n"
     ]
    },
    {
     "name": "stdout",
     "output_type": "stream",
     "text": [
      "Download concluído! Arquivos em: C:\\Users\\ferna\\.cache\\kagglehub\\datasets\\raddar\\tuberculosis-chest-xrays-montgomery\\versions\\1\n"
     ]
    }
   ],
   "source": [
    "# Caminho da pasta do usuário\n",
    "home_dir = os.path.expanduser(\"~\")\n",
    "\n",
    "# Caminho onde os datasets do kagglehub são armazenados\n",
    "dataset_name = \"raddar/tuberculosis-chest-xrays-montgomery\"\n",
    "dataset_folder = dataset_name.replace(\"/\", os.sep)  \n",
    "dataset_path = os.path.join(home_dir, \".cache\", \"kagglehub\", \"datasets\", dataset_folder, \"versions\", \"1\")\n",
    "\n",
    "# Verifica se o dataset já foi instalado\n",
    "if not os.path.exists(dataset_path) or not os.listdir(dataset_path):\n",
    "    print(\"Baixando o dataset...\")\n",
    "    path = kagglehub.dataset_download(\"raddar/tuberculosis-chest-xrays-montgomery\")\n",
    "    print(\"Download concluído! Arquivos em:\", path)\n",
    "else:\n",
    "    print(\"Dataset já instalado. Usando arquivos locais em:\", dataset_path)"
   ]
  },
  {
   "cell_type": "markdown",
   "id": "d9326832",
   "metadata": {},
   "source": [
    "## 3.Criando IA Convolucional"
   ]
  },
  {
   "cell_type": "markdown",
   "id": "fe6313ef",
   "metadata": {},
   "source": [
    "##### 3.1 Separando casos normais e casos de tuberculose"
   ]
  },
  {
   "cell_type": "code",
   "execution_count": 63,
   "id": "44a7a71d",
   "metadata": {},
   "outputs": [],
   "source": [
    "# Lendo arquivo compilado com os resultados médicos\n",
    "exams_results = [f for f in os.listdir(dataset_path) if f.endswith('.csv')]\n",
    "exams_result_path = os.path.join(dataset_path, exams_results[0])\n",
    "\n",
    "images = os.path.join(dataset_path, 'images', 'images')"
   ]
  },
  {
   "cell_type": "code",
   "execution_count": 64,
   "id": "bfbd9c17",
   "metadata": {},
   "outputs": [
    {
     "data": {
      "text/html": [
       "<div>\n",
       "<style scoped>\n",
       "    .dataframe tbody tr th:only-of-type {\n",
       "        vertical-align: middle;\n",
       "    }\n",
       "\n",
       "    .dataframe tbody tr th {\n",
       "        vertical-align: top;\n",
       "    }\n",
       "\n",
       "    .dataframe thead th {\n",
       "        text-align: right;\n",
       "    }\n",
       "</style>\n",
       "<table border=\"1\" class=\"dataframe\">\n",
       "  <thead>\n",
       "    <tr style=\"text-align: right;\">\n",
       "      <th></th>\n",
       "      <th>study_id</th>\n",
       "      <th>age</th>\n",
       "      <th>gender</th>\n",
       "      <th>findings</th>\n",
       "    </tr>\n",
       "  </thead>\n",
       "  <tbody>\n",
       "    <tr>\n",
       "      <th>0</th>\n",
       "      <td>MCUCXR_0001_0.png</td>\n",
       "      <td>27</td>\n",
       "      <td>Female</td>\n",
       "      <td>normal</td>\n",
       "    </tr>\n",
       "    <tr>\n",
       "      <th>1</th>\n",
       "      <td>MCUCXR_0002_0.png</td>\n",
       "      <td>40</td>\n",
       "      <td>Female</td>\n",
       "      <td>normal</td>\n",
       "    </tr>\n",
       "    <tr>\n",
       "      <th>2</th>\n",
       "      <td>MCUCXR_0003_0.png</td>\n",
       "      <td>21</td>\n",
       "      <td>Female</td>\n",
       "      <td>normal</td>\n",
       "    </tr>\n",
       "    <tr>\n",
       "      <th>3</th>\n",
       "      <td>MCUCXR_0004_0.png</td>\n",
       "      <td>11</td>\n",
       "      <td>Female</td>\n",
       "      <td>normal</td>\n",
       "    </tr>\n",
       "    <tr>\n",
       "      <th>4</th>\n",
       "      <td>MCUCXR_0005_0.png</td>\n",
       "      <td>33</td>\n",
       "      <td>Male</td>\n",
       "      <td>normal</td>\n",
       "    </tr>\n",
       "    <tr>\n",
       "      <th>...</th>\n",
       "      <td>...</td>\n",
       "      <td>...</td>\n",
       "      <td>...</td>\n",
       "      <td>...</td>\n",
       "    </tr>\n",
       "    <tr>\n",
       "      <th>133</th>\n",
       "      <td>MCUCXR_0383_1.png</td>\n",
       "      <td>14</td>\n",
       "      <td>Female</td>\n",
       "      <td>calcified granuloma LUL behind 4th rib anterior</td>\n",
       "    </tr>\n",
       "    <tr>\n",
       "      <th>134</th>\n",
       "      <td>MCUCXR_0387_1.png</td>\n",
       "      <td>42</td>\n",
       "      <td>Male</td>\n",
       "      <td>inactive scars RUL</td>\n",
       "    </tr>\n",
       "    <tr>\n",
       "      <th>135</th>\n",
       "      <td>MCUCXR_0390_1.png</td>\n",
       "      <td>52</td>\n",
       "      <td>Male</td>\n",
       "      <td>Rt apical scarring. LUL scars and some infiltr...</td>\n",
       "    </tr>\n",
       "    <tr>\n",
       "      <th>136</th>\n",
       "      <td>MCUCXR_0393_1.png</td>\n",
       "      <td>30</td>\n",
       "      <td>Female</td>\n",
       "      <td>left pleural effusion; best seen on lateral vi...</td>\n",
       "    </tr>\n",
       "    <tr>\n",
       "      <th>137</th>\n",
       "      <td>MCUCXR_0399_1.png</td>\n",
       "      <td>63</td>\n",
       "      <td>Female</td>\n",
       "      <td>large infiltrate RUL with cavitation plus infi...</td>\n",
       "    </tr>\n",
       "  </tbody>\n",
       "</table>\n",
       "<p>138 rows × 4 columns</p>\n",
       "</div>"
      ],
      "text/plain": [
       "              study_id  age  gender  \\\n",
       "0    MCUCXR_0001_0.png   27  Female   \n",
       "1    MCUCXR_0002_0.png   40  Female   \n",
       "2    MCUCXR_0003_0.png   21  Female   \n",
       "3    MCUCXR_0004_0.png   11  Female   \n",
       "4    MCUCXR_0005_0.png   33    Male   \n",
       "..                 ...  ...     ...   \n",
       "133  MCUCXR_0383_1.png   14  Female   \n",
       "134  MCUCXR_0387_1.png   42    Male   \n",
       "135  MCUCXR_0390_1.png   52    Male   \n",
       "136  MCUCXR_0393_1.png   30  Female   \n",
       "137  MCUCXR_0399_1.png   63  Female   \n",
       "\n",
       "                                              findings  \n",
       "0                                               normal  \n",
       "1                                               normal  \n",
       "2                                               normal  \n",
       "3                                               normal  \n",
       "4                                               normal  \n",
       "..                                                 ...  \n",
       "133    calcified granuloma LUL behind 4th rib anterior  \n",
       "134                                 inactive scars RUL  \n",
       "135  Rt apical scarring. LUL scars and some infiltr...  \n",
       "136  left pleural effusion; best seen on lateral vi...  \n",
       "137  large infiltrate RUL with cavitation plus infi...  \n",
       "\n",
       "[138 rows x 4 columns]"
      ]
     },
     "execution_count": 64,
     "metadata": {},
     "output_type": "execute_result"
    }
   ],
   "source": [
    "# Criando DataFrame\n",
    "df_exams_results = pd.read_csv(exams_result_path)\n",
    "df_exams_results"
   ]
  },
  {
   "cell_type": "code",
   "execution_count": 65,
   "id": "8e29aaf1",
   "metadata": {},
   "outputs": [
    {
     "data": {
      "text/html": [
       "<div>\n",
       "<style scoped>\n",
       "    .dataframe tbody tr th:only-of-type {\n",
       "        vertical-align: middle;\n",
       "    }\n",
       "\n",
       "    .dataframe tbody tr th {\n",
       "        vertical-align: top;\n",
       "    }\n",
       "\n",
       "    .dataframe thead th {\n",
       "        text-align: right;\n",
       "    }\n",
       "</style>\n",
       "<table border=\"1\" class=\"dataframe\">\n",
       "  <thead>\n",
       "    <tr style=\"text-align: right;\">\n",
       "      <th></th>\n",
       "      <th>study_id</th>\n",
       "      <th>age</th>\n",
       "      <th>gender</th>\n",
       "      <th>findings</th>\n",
       "    </tr>\n",
       "  </thead>\n",
       "  <tbody>\n",
       "    <tr>\n",
       "      <th>0</th>\n",
       "      <td>MCUCXR_0001_0.png</td>\n",
       "      <td>27</td>\n",
       "      <td>Female</td>\n",
       "      <td>NORMAL</td>\n",
       "    </tr>\n",
       "    <tr>\n",
       "      <th>1</th>\n",
       "      <td>MCUCXR_0002_0.png</td>\n",
       "      <td>40</td>\n",
       "      <td>Female</td>\n",
       "      <td>NORMAL</td>\n",
       "    </tr>\n",
       "    <tr>\n",
       "      <th>2</th>\n",
       "      <td>MCUCXR_0003_0.png</td>\n",
       "      <td>21</td>\n",
       "      <td>Female</td>\n",
       "      <td>NORMAL</td>\n",
       "    </tr>\n",
       "    <tr>\n",
       "      <th>3</th>\n",
       "      <td>MCUCXR_0004_0.png</td>\n",
       "      <td>11</td>\n",
       "      <td>Female</td>\n",
       "      <td>NORMAL</td>\n",
       "    </tr>\n",
       "    <tr>\n",
       "      <th>4</th>\n",
       "      <td>MCUCXR_0005_0.png</td>\n",
       "      <td>33</td>\n",
       "      <td>Male</td>\n",
       "      <td>NORMAL</td>\n",
       "    </tr>\n",
       "    <tr>\n",
       "      <th>...</th>\n",
       "      <td>...</td>\n",
       "      <td>...</td>\n",
       "      <td>...</td>\n",
       "      <td>...</td>\n",
       "    </tr>\n",
       "    <tr>\n",
       "      <th>133</th>\n",
       "      <td>MCUCXR_0383_1.png</td>\n",
       "      <td>14</td>\n",
       "      <td>Female</td>\n",
       "      <td>CALCIFIED GRANULOMA LUL BEHIND 4TH RIB ANTERIOR</td>\n",
       "    </tr>\n",
       "    <tr>\n",
       "      <th>134</th>\n",
       "      <td>MCUCXR_0387_1.png</td>\n",
       "      <td>42</td>\n",
       "      <td>Male</td>\n",
       "      <td>INACTIVE SCARS RUL</td>\n",
       "    </tr>\n",
       "    <tr>\n",
       "      <th>135</th>\n",
       "      <td>MCUCXR_0390_1.png</td>\n",
       "      <td>52</td>\n",
       "      <td>Male</td>\n",
       "      <td>RT APICAL SCARRING. LUL SCARS AND SOME INFILTR...</td>\n",
       "    </tr>\n",
       "    <tr>\n",
       "      <th>136</th>\n",
       "      <td>MCUCXR_0393_1.png</td>\n",
       "      <td>30</td>\n",
       "      <td>Female</td>\n",
       "      <td>LEFT PLEURAL EFFUSION; BEST SEEN ON LATERAL VI...</td>\n",
       "    </tr>\n",
       "    <tr>\n",
       "      <th>137</th>\n",
       "      <td>MCUCXR_0399_1.png</td>\n",
       "      <td>63</td>\n",
       "      <td>Female</td>\n",
       "      <td>LARGE INFILTRATE RUL WITH CAVITATION PLUS INFI...</td>\n",
       "    </tr>\n",
       "  </tbody>\n",
       "</table>\n",
       "<p>138 rows × 4 columns</p>\n",
       "</div>"
      ],
      "text/plain": [
       "              study_id  age  gender  \\\n",
       "0    MCUCXR_0001_0.png   27  Female   \n",
       "1    MCUCXR_0002_0.png   40  Female   \n",
       "2    MCUCXR_0003_0.png   21  Female   \n",
       "3    MCUCXR_0004_0.png   11  Female   \n",
       "4    MCUCXR_0005_0.png   33    Male   \n",
       "..                 ...  ...     ...   \n",
       "133  MCUCXR_0383_1.png   14  Female   \n",
       "134  MCUCXR_0387_1.png   42    Male   \n",
       "135  MCUCXR_0390_1.png   52    Male   \n",
       "136  MCUCXR_0393_1.png   30  Female   \n",
       "137  MCUCXR_0399_1.png   63  Female   \n",
       "\n",
       "                                              findings  \n",
       "0                                               NORMAL  \n",
       "1                                               NORMAL  \n",
       "2                                               NORMAL  \n",
       "3                                               NORMAL  \n",
       "4                                               NORMAL  \n",
       "..                                                 ...  \n",
       "133    CALCIFIED GRANULOMA LUL BEHIND 4TH RIB ANTERIOR  \n",
       "134                                 INACTIVE SCARS RUL  \n",
       "135  RT APICAL SCARRING. LUL SCARS AND SOME INFILTR...  \n",
       "136  LEFT PLEURAL EFFUSION; BEST SEEN ON LATERAL VI...  \n",
       "137  LARGE INFILTRATE RUL WITH CAVITATION PLUS INFI...  \n",
       "\n",
       "[138 rows x 4 columns]"
      ]
     },
     "execution_count": 65,
     "metadata": {},
     "output_type": "execute_result"
    }
   ],
   "source": [
    "# Tratando dados\n",
    "df_exams_results['findings'] = df_exams_results['findings'].str.strip().str.upper()\n",
    "df_exams_results"
   ]
  },
  {
   "cell_type": "code",
   "execution_count": 66,
   "id": "5bab58cb",
   "metadata": {},
   "outputs": [],
   "source": [
    "# Separando imagens normais e patológicas em duas listas\n",
    "list_normal = []\n",
    "list_tuberculosis = []\n",
    "\n",
    "for i, row in df_exams_results.iterrows():\n",
    "    name_image = row['study_id']\n",
    "    if row['findings'] == 'NORMAL':\n",
    "        list_normal.append(name_image)\n",
    "    else:\n",
    "        list_tuberculosis.append(name_image)\n"
   ]
  },
  {
   "cell_type": "code",
   "execution_count": 72,
   "id": "c649dfce",
   "metadata": {},
   "outputs": [],
   "source": [
    "# Criando novos diretórios para casos normais e casos patológicos\n",
    "dir_ai_training = 'AI training images'\n",
    "dir_normal = 'Normal'\n",
    "dir_tuberculosis = 'Tuberculosis'\n",
    "\n",
    "path_ai_training = os.path.join(dataset_path, dir_ai_training)\n",
    "path_normal = os.path.join(dataset_path, dir_ai_training, dir_normal)\n",
    "path_tuberculosis = os.path.join(dataset_path, dir_ai_training, dir_tuberculosis)\n",
    "\n",
    "os.makedirs(path_normal, exist_ok=True)\n",
    "os.makedirs(path_tuberculosis, exist_ok=True)"
   ]
  },
  {
   "cell_type": "code",
   "execution_count": 68,
   "id": "87e6ae8d",
   "metadata": {},
   "outputs": [],
   "source": [
    "# Movendo imagens normais e patológicas para seus respectivos diretórios\n",
    "for name in list_normal:\n",
    "    origin = os.path.join(images, name)\n",
    "    destination = os.path.join(path_normal, name)\n",
    "    if os.path.exists(origin):\n",
    "        shutil.move(origin, destination)\n",
    "\n",
    "for name in list_tuberculosis:\n",
    "    origin = os.path.join(images, name)\n",
    "    destination = os.path.join(path_tuberculosis, name)\n",
    "    if os.path.exists(origin):\n",
    "        shutil.move(origin, destination)"
   ]
  },
  {
   "cell_type": "markdown",
   "id": "fac9ebfd",
   "metadata": {},
   "source": [
    "#### 3.2 Pré-Processamento"
   ]
  },
  {
   "cell_type": "code",
   "execution_count": 73,
   "id": "0588e66c",
   "metadata": {},
   "outputs": [
    {
     "name": "stdout",
     "output_type": "stream",
     "text": [
      "Found 111 images belonging to 2 classes.\n",
      "Found 27 images belonging to 2 classes.\n"
     ]
    }
   ],
   "source": [
    "datagen = ImageDataGenerator(rescale=1./255, validation_split=0.2)\n",
    "\n",
    "train_generator = datagen.flow_from_directory(\n",
    "    path_ai_training,\n",
    "    target_size=(225,225),\n",
    "    batch_size=32,\n",
    "    class_mode='binary',\n",
    "    subset='training'\n",
    ")\n",
    "\n",
    "validation_generator = datagen.flow_from_directory(\n",
    "    path_ai_training,\n",
    "    target_size=(225,225),\n",
    "    batch_size=32,\n",
    "    class_mode='binary',\n",
    "    subset='validation'\n",
    ")"
   ]
  },
  {
   "cell_type": "code",
   "execution_count": 74,
   "id": "02b081ce",
   "metadata": {},
   "outputs": [
    {
     "name": "stdout",
     "output_type": "stream",
     "text": [
      "{'Normal': 0, 'Tuberculosis': 1}\n"
     ]
    }
   ],
   "source": [
    "print(train_generator.class_indices)\n"
   ]
  },
  {
   "cell_type": "markdown",
   "id": "ecfee408",
   "metadata": {},
   "source": [
    "#### 3.3 Rede Convolucional Neural"
   ]
  },
  {
   "cell_type": "code",
   "execution_count": 80,
   "id": "b49dcfc3",
   "metadata": {},
   "outputs": [],
   "source": [
    "model = models.Sequential([\n",
    "    layers.Conv2D(32, 3, activation='relu', input_shape=(225,225,3)),\n",
    "    layers.MaxPooling2D(2,2),\n",
    "    \n",
    "    layers.Conv2D(64, 3, activation='relu'),\n",
    "    layers.MaxPooling2D(2,2),\n",
    "    \n",
    "    layers.Conv2D(128, 3, activation='relu'),\n",
    "    layers.MaxPooling2D(2,2),\n",
    "    \n",
    "    layers.Flatten(),\n",
    "    layers.Dropout(0.5),\n",
    "    layers.Dense(128, activation='relu'),\n",
    "    layers.Dropout(0.3),\n",
    "    layers.Dense(1, activation='sigmoid')\n",
    "])"
   ]
  },
  {
   "cell_type": "code",
   "execution_count": 81,
   "id": "3f361330",
   "metadata": {},
   "outputs": [],
   "source": [
    "model.compile(\n",
    "    optimizer='adam',\n",
    "    loss='binary_crossentropy',\n",
    "    metrics=['accuracy']\n",
    ")"
   ]
  },
  {
   "cell_type": "markdown",
   "id": "f1154b51",
   "metadata": {},
   "source": [
    "## 4.Treinando IA"
   ]
  },
  {
   "cell_type": "code",
   "execution_count": 85,
   "id": "a6e533e4",
   "metadata": {},
   "outputs": [
    {
     "ename": "ImportError",
     "evalue": "Could not import PIL.Image. The use of `load_img` requires PIL.",
     "output_type": "error",
     "traceback": [
      "\u001b[31m---------------------------------------------------------------------------\u001b[39m",
      "\u001b[31mImportError\u001b[39m                               Traceback (most recent call last)",
      "\u001b[36mCell\u001b[39m\u001b[36m \u001b[39m\u001b[32mIn[85]\u001b[39m\u001b[32m, line 1\u001b[39m\n\u001b[32m----> \u001b[39m\u001b[32m1\u001b[39m history = \u001b[43mmodel\u001b[49m\u001b[43m.\u001b[49m\u001b[43mfit\u001b[49m\u001b[43m(\u001b[49m\n\u001b[32m      2\u001b[39m \u001b[43m    \u001b[49m\u001b[43mtrain_generator\u001b[49m\u001b[43m,\u001b[49m\n\u001b[32m      3\u001b[39m \u001b[43m    \u001b[49m\u001b[43mvalidation_data\u001b[49m\u001b[43m=\u001b[49m\u001b[43mvalidation_generator\u001b[49m\u001b[43m,\u001b[49m\n\u001b[32m      4\u001b[39m \u001b[43m    \u001b[49m\u001b[43mepochs\u001b[49m\u001b[43m=\u001b[49m\u001b[32;43m10\u001b[39;49m\n\u001b[32m      5\u001b[39m \u001b[43m)\u001b[49m\n",
      "\u001b[36mFile \u001b[39m\u001b[32mc:\\Users\\ferna\\codigos\\IA_tuberculosis_detector\\venv_tf\\Lib\\site-packages\\keras\\src\\utils\\traceback_utils.py:122\u001b[39m, in \u001b[36mfilter_traceback.<locals>.error_handler\u001b[39m\u001b[34m(*args, **kwargs)\u001b[39m\n\u001b[32m    119\u001b[39m     filtered_tb = _process_traceback_frames(e.__traceback__)\n\u001b[32m    120\u001b[39m     \u001b[38;5;66;03m# To get the full stack trace, call:\u001b[39;00m\n\u001b[32m    121\u001b[39m     \u001b[38;5;66;03m# `keras.config.disable_traceback_filtering()`\u001b[39;00m\n\u001b[32m--> \u001b[39m\u001b[32m122\u001b[39m     \u001b[38;5;28;01mraise\u001b[39;00m e.with_traceback(filtered_tb) \u001b[38;5;28;01mfrom\u001b[39;00m\u001b[38;5;250m \u001b[39m\u001b[38;5;28;01mNone\u001b[39;00m\n\u001b[32m    123\u001b[39m \u001b[38;5;28;01mfinally\u001b[39;00m:\n\u001b[32m    124\u001b[39m     \u001b[38;5;28;01mdel\u001b[39;00m filtered_tb\n",
      "\u001b[36mFile \u001b[39m\u001b[32mc:\\Users\\ferna\\codigos\\IA_tuberculosis_detector\\venv_tf\\Lib\\site-packages\\keras\\src\\utils\\image_utils.py:227\u001b[39m, in \u001b[36mload_img\u001b[39m\u001b[34m(path, color_mode, target_size, interpolation, keep_aspect_ratio)\u001b[39m\n\u001b[32m    195\u001b[39m \u001b[38;5;250m\u001b[39m\u001b[33;03m\"\"\"Loads an image into PIL format.\u001b[39;00m\n\u001b[32m    196\u001b[39m \n\u001b[32m    197\u001b[39m \u001b[33;03mExample:\u001b[39;00m\n\u001b[32m   (...)\u001b[39m\u001b[32m    224\u001b[39m \u001b[33;03m    A PIL Image instance.\u001b[39;00m\n\u001b[32m    225\u001b[39m \u001b[33;03m\"\"\"\u001b[39;00m\n\u001b[32m    226\u001b[39m \u001b[38;5;28;01mif\u001b[39;00m pil_image \u001b[38;5;129;01mis\u001b[39;00m \u001b[38;5;28;01mNone\u001b[39;00m:\n\u001b[32m--> \u001b[39m\u001b[32m227\u001b[39m     \u001b[38;5;28;01mraise\u001b[39;00m \u001b[38;5;167;01mImportError\u001b[39;00m(\n\u001b[32m    228\u001b[39m         \u001b[33m\"\u001b[39m\u001b[33mCould not import PIL.Image. The use of `load_img` requires PIL.\u001b[39m\u001b[33m\"\u001b[39m\n\u001b[32m    229\u001b[39m     )\n\u001b[32m    230\u001b[39m \u001b[38;5;28;01mif\u001b[39;00m \u001b[38;5;28misinstance\u001b[39m(path, io.BytesIO):\n\u001b[32m    231\u001b[39m     img = pil_image.open(path)\n",
      "\u001b[31mImportError\u001b[39m: Could not import PIL.Image. The use of `load_img` requires PIL."
     ]
    }
   ],
   "source": [
    "history = model.fit(\n",
    "    train_generator,\n",
    "    validation_data=validation_generator,\n",
    "    epochs=10\n",
    ")"
   ]
  },
  {
   "cell_type": "code",
   "execution_count": 70,
   "id": "396c5475",
   "metadata": {},
   "outputs": [
    {
     "data": {
      "text/html": [
       "<div>\n",
       "<style scoped>\n",
       "    .dataframe tbody tr th:only-of-type {\n",
       "        vertical-align: middle;\n",
       "    }\n",
       "\n",
       "    .dataframe tbody tr th {\n",
       "        vertical-align: top;\n",
       "    }\n",
       "\n",
       "    .dataframe thead th {\n",
       "        text-align: right;\n",
       "    }\n",
       "</style>\n",
       "<table border=\"1\" class=\"dataframe\">\n",
       "  <thead>\n",
       "    <tr style=\"text-align: right;\">\n",
       "      <th></th>\n",
       "      <th>study_id</th>\n",
       "      <th>age</th>\n",
       "      <th>gender</th>\n",
       "      <th>findings</th>\n",
       "    </tr>\n",
       "  </thead>\n",
       "  <tbody>\n",
       "    <tr>\n",
       "      <th>0</th>\n",
       "      <td>MCUCXR_0001_0.png</td>\n",
       "      <td>27</td>\n",
       "      <td>Female</td>\n",
       "      <td>normal</td>\n",
       "    </tr>\n",
       "    <tr>\n",
       "      <th>1</th>\n",
       "      <td>MCUCXR_0002_0.png</td>\n",
       "      <td>40</td>\n",
       "      <td>Female</td>\n",
       "      <td>normal</td>\n",
       "    </tr>\n",
       "    <tr>\n",
       "      <th>2</th>\n",
       "      <td>MCUCXR_0003_0.png</td>\n",
       "      <td>21</td>\n",
       "      <td>Female</td>\n",
       "      <td>normal</td>\n",
       "    </tr>\n",
       "    <tr>\n",
       "      <th>3</th>\n",
       "      <td>MCUCXR_0004_0.png</td>\n",
       "      <td>11</td>\n",
       "      <td>Female</td>\n",
       "      <td>normal</td>\n",
       "    </tr>\n",
       "    <tr>\n",
       "      <th>4</th>\n",
       "      <td>MCUCXR_0005_0.png</td>\n",
       "      <td>33</td>\n",
       "      <td>Male</td>\n",
       "      <td>normal</td>\n",
       "    </tr>\n",
       "    <tr>\n",
       "      <th>...</th>\n",
       "      <td>...</td>\n",
       "      <td>...</td>\n",
       "      <td>...</td>\n",
       "      <td>...</td>\n",
       "    </tr>\n",
       "    <tr>\n",
       "      <th>133</th>\n",
       "      <td>MCUCXR_0383_1.png</td>\n",
       "      <td>14</td>\n",
       "      <td>Female</td>\n",
       "      <td>calcified granuloma LUL behind 4th rib anterior</td>\n",
       "    </tr>\n",
       "    <tr>\n",
       "      <th>134</th>\n",
       "      <td>MCUCXR_0387_1.png</td>\n",
       "      <td>42</td>\n",
       "      <td>Male</td>\n",
       "      <td>inactive scars RUL</td>\n",
       "    </tr>\n",
       "    <tr>\n",
       "      <th>135</th>\n",
       "      <td>MCUCXR_0390_1.png</td>\n",
       "      <td>52</td>\n",
       "      <td>Male</td>\n",
       "      <td>Rt apical scarring. LUL scars and some infiltr...</td>\n",
       "    </tr>\n",
       "    <tr>\n",
       "      <th>136</th>\n",
       "      <td>MCUCXR_0393_1.png</td>\n",
       "      <td>30</td>\n",
       "      <td>Female</td>\n",
       "      <td>left pleural effusion; best seen on lateral vi...</td>\n",
       "    </tr>\n",
       "    <tr>\n",
       "      <th>137</th>\n",
       "      <td>MCUCXR_0399_1.png</td>\n",
       "      <td>63</td>\n",
       "      <td>Female</td>\n",
       "      <td>large infiltrate RUL with cavitation plus infi...</td>\n",
       "    </tr>\n",
       "  </tbody>\n",
       "</table>\n",
       "<p>138 rows × 4 columns</p>\n",
       "</div>"
      ],
      "text/plain": [
       "              study_id  age  gender  \\\n",
       "0    MCUCXR_0001_0.png   27  Female   \n",
       "1    MCUCXR_0002_0.png   40  Female   \n",
       "2    MCUCXR_0003_0.png   21  Female   \n",
       "3    MCUCXR_0004_0.png   11  Female   \n",
       "4    MCUCXR_0005_0.png   33    Male   \n",
       "..                 ...  ...     ...   \n",
       "133  MCUCXR_0383_1.png   14  Female   \n",
       "134  MCUCXR_0387_1.png   42    Male   \n",
       "135  MCUCXR_0390_1.png   52    Male   \n",
       "136  MCUCXR_0393_1.png   30  Female   \n",
       "137  MCUCXR_0399_1.png   63  Female   \n",
       "\n",
       "                                              findings  \n",
       "0                                               normal  \n",
       "1                                               normal  \n",
       "2                                               normal  \n",
       "3                                               normal  \n",
       "4                                               normal  \n",
       "..                                                 ...  \n",
       "133    calcified granuloma LUL behind 4th rib anterior  \n",
       "134                                 inactive scars RUL  \n",
       "135  Rt apical scarring. LUL scars and some infiltr...  \n",
       "136  left pleural effusion; best seen on lateral vi...  \n",
       "137  large infiltrate RUL with cavitation plus infi...  \n",
       "\n",
       "[138 rows x 4 columns]"
      ]
     },
     "execution_count": 70,
     "metadata": {},
     "output_type": "execute_result"
    }
   ],
   "source": [
    "# Exibindo resultados médicos das imagens fornecidas \n",
    "df_exams_results = pd.read_csv(exams_result_path)\n",
    "df_exams_results"
   ]
  }
 ],
 "metadata": {
  "kernelspec": {
   "display_name": "venv_tf",
   "language": "python",
   "name": "python3"
  },
  "language_info": {
   "codemirror_mode": {
    "name": "ipython",
    "version": 3
   },
   "file_extension": ".py",
   "mimetype": "text/x-python",
   "name": "python",
   "nbconvert_exporter": "python",
   "pygments_lexer": "ipython3",
   "version": "3.11.9"
  }
 },
 "nbformat": 4,
 "nbformat_minor": 5
}
